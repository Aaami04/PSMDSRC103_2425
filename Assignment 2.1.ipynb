{
 "cells": [
  {
   "cell_type": "markdown",
   "id": "b8c28ec2-5c8c-474e-9da7-37f68238f7ca",
   "metadata": {},
   "source": [
    "# Amizola, April Anne"
   ]
  },
  {
   "cell_type": "markdown",
   "id": "550c3042-5ffd-435f-a584-74825c2eb1ed",
   "metadata": {},
   "source": [
    "# Assignment 2.1 Supplementary Activities to Creating Modules and Packages"
   ]
  },
  {
   "cell_type": "markdown",
   "id": "1e377521-b094-4350-91be-4b0ca21e47a7",
   "metadata": {},
   "source": [
    "## 1. Create a function that would accept two inputs: a sentence(string), and a list containing bad words that the user would like to censor but not remove. The function should return the newly filtered sentence wherein the bad words are replaced with asterisks equal to the length of the censored word."
   ]
  },
  {
   "cell_type": "code",
   "execution_count": 63,
   "id": "37f5244d-f630-4545-8ebb-545f658fafde",
   "metadata": {},
   "outputs": [
    {
     "name": "stdout",
     "output_type": "stream",
     "text": [
      "It is *** to say something ******** so be careful not to say ************* words.\n"
     ]
    }
   ],
   "source": [
    "def censor_bad_words(sentence, bad_words):\n",
    "\n",
    "    words = str(sentence).split()\n",
    "    bad_words = list(bad_words)\n",
    "    \n",
    "    for w in range(len(words)):\n",
    "        for bad_word in bad_words:\n",
    "            if words[w].lower() == bad_word.lower():\n",
    "                words[w] = '*' * len(bad_word)    \n",
    "    return ' '.join(words)\n",
    "\n",
    "sentence = \"It is bad to say something negative so be careful not to say inappropriate words.\"\n",
    "bad_words = [\"bad\", \"negative\", \"inappropriate\"]\n",
    "filtered_sentence = censor_bad_words(sentence, bad_words)\n",
    "print(filtered_sentence)"
   ]
  },
  {
   "cell_type": "markdown",
   "id": "5cfa57c1-9982-4907-a962-f49fd248d564",
   "metadata": {},
   "source": [
    "## 2. Create a quadratic equation solver module that would write the inputs of the user and the corresponding output into text files."
   ]
  },
  {
   "cell_type": "code",
   "execution_count": 87,
   "id": "c67e21a0-16c0-4391-b812-3d1394d388cb",
   "metadata": {},
   "outputs": [
    {
     "name": "stdout",
     "output_type": "stream",
     "text": [
      "Real and Distinct Roots: x1 = 2.0, x2 = 1.0\n"
     ]
    }
   ],
   "source": [
    "import math\n",
    "\n",
    "def solve_quadratic(a, b, c):\n",
    "    a = float(a)\n",
    "    b = float(b)\n",
    "    c = float(c)\n",
    "\n",
    "    discriminant = b**2 - 4*a*c\n",
    "        \n",
    "    if discriminant > 0:\n",
    "        root1 = (-b + math.sqrt(discriminant)) / (2 * a)\n",
    "        root2 = (-b - math.sqrt(discriminant)) / (2 * a)\n",
    "        solution = f\"Real and Distinct Roots: x1 = {root1}, x2 = {root2}\"\n",
    "    elif discriminant == 0:\n",
    "        root = -b / (2 * a)\n",
    "        solution = f\"Real and Equal Roots: x = {root}\"\n",
    "    else:\n",
    "        real_part = -b / (2 * a)\n",
    "        imaginary_part = math.sqrt(-discriminant) / (2 * a)\n",
    "        solution = (f\"Complex Roots: x1 = {real_part} + {imaginary_part}i, x2 = {real_part} - {imaginary_part}i\")\n",
    "        \n",
    "    with open(\"quadratic_solver_log.txt\", \"a\") as log_file:\n",
    "        log_file.write(f\"Equation: {a}x^2 + {b}x + {c} = 0\\n\")\n",
    "        log_file.write(f\"Solution: {solution}\\n\")\n",
    "        log_file.write(\"\\n\")\n",
    "        \n",
    "    return str(solution)\n",
    "\n",
    "result = solve_quadratic(1, -3, 2)\n",
    "print(result)"
   ]
  },
  {
   "cell_type": "markdown",
   "id": "4082b0cd-472d-4b69-a9a4-c60e955d98c9",
   "metadata": {},
   "source": [
    "## Answer the following questions:"
   ]
  },
  {
   "cell_type": "markdown",
   "id": "c8ab9a53-199a-4363-9ae4-d508d1538836",
   "metadata": {},
   "source": [
    "### 1. Why do built-in functions exist?"
   ]
  },
  {
   "cell_type": "markdown",
   "id": "82878ca5-9c4a-4ab0-927b-8e826ff28358",
   "metadata": {},
   "source": [
    "#### Built-in functions exist to cater commonly used functionalities that simplifies the process in creating statements. It is convenient to use since it is readily available, eliminates the need to write functions to perform a specific task like mathematical operation. It makes the work efficient and reliable as these functions are tried and tested therefore less chances to commit errors."
   ]
  },
  {
   "cell_type": "markdown",
   "id": "4750ec24-974f-428a-8b74-803e2d4b165d",
   "metadata": {},
   "source": [
    "### 2. What are the advantages/disadvantages of placing code inside functions vs. sequential codes?"
   ]
  },
  {
   "cell_type": "markdown",
   "id": "4e3d7436-d207-477a-a825-e4f15b3753d8",
   "metadata": {},
   "source": [
    "#### Functions\n",
    "##### Advantages - Instead of rewriting the codes to perform the same tasks, you can use functions and call them in your statement. They help in breaking down compplex problems into smaller, manageable pieces, organizes your statements and therefore improves readability. They hide implementation details and separate specific tasks, so it helps your program maintain a clear structure."
   ]
  },
  {
   "cell_type": "markdown",
   "id": "a1bb0351-4550-4745-bec7-577bab4212fc",
   "metadata": {},
   "source": [
    "##### Disadvantages - There's not much issues when using functions. It may sometimes add unnecessary complexity but overall, it helps maintain the code in an organized and cleared manner."
   ]
  },
  {
   "cell_type": "markdown",
   "id": "950e3668-dd28-48f6-b4bd-670f7557c9d9",
   "metadata": {},
   "source": [
    "#### Sequential codes"
   ]
  },
  {
   "cell_type": "markdown",
   "id": "7fa4c6e6-0966-4ca7-acfb-4e90a09a35f5",
   "metadata": {},
   "source": [
    "##### Advantages - It's good for simple scripts since it's not necessary to define functions and call them in your statements. Writing them in sequence is sufficient as it can be easily followed by others."
   ]
  },
  {
   "cell_type": "markdown",
   "id": "36c9b0b0-83eb-45ee-8bca-a2fc298634ca",
   "metadata": {},
   "source": [
    "##### Disadvantages - When your scripts are broad and they perform various tasks, it is hard to maintain your sequential codes, and that's when functions come in and help out to reduce redundancies and duplication of long statements."
   ]
  },
  {
   "cell_type": "markdown",
   "id": "fe69f19d-9e86-4c3d-a432-1d7cffcf9f86",
   "metadata": {},
   "source": [
    "### 3. What is the different between a function and a module?"
   ]
  },
  {
   "cell_type": "markdown",
   "id": "f0c7cea5-489c-407c-8501-ba8f026cb23e",
   "metadata": {},
   "source": [
    "##### Function - self-contained block of code that performs a specific task and may return a value. They are defined starting with keyword def then creating a name for the function and you may add parameters to be included in the body of code that is executed when the function is called."
   ]
  },
  {
   "cell_type": "markdown",
   "id": "370b3a8c-07c9-4bf9-b7c0-aecc540d83e7",
   "metadata": {},
   "source": [
    "##### Module - a file containing Python statements such as  functions, variables and classes. It groups related functions and objects together."
   ]
  },
  {
   "cell_type": "markdown",
   "id": "35f8dacf-ccaa-4ed4-a492-19ed5191c9b0",
   "metadata": {},
   "source": [
    "##### Function is a smaller unit of code  inside a program which performs a specific task, while module is a broader one that contains multiple functions, classes and variables which organizes and groups related code."
   ]
  },
  {
   "cell_type": "markdown",
   "id": "87acadf3-820c-4e1b-ba7f-56b17039aab0",
   "metadata": {},
   "source": [
    "### 4. Discuss the difference between a module and a package."
   ]
  },
  {
   "cell_type": "markdown",
   "id": "e05f20e4-789e-4f29-91e3-70745552cc2c",
   "metadata": {},
   "source": [
    "##### Module - a file containing Python statements such as functions, variables and classes. It groups related functions and objects together."
   ]
  },
  {
   "cell_type": "markdown",
   "id": "abfdadcf-97ea-437b-8ea4-5f48c7be6979",
   "metadata": {},
   "source": [
    "##### Package - a collection of modules that is orderly structured. It contains a special __init.__.py file and multiple modules and sub-packages."
   ]
  }
 ],
 "metadata": {
  "kernelspec": {
   "display_name": "Python 3 (ipykernel)",
   "language": "python",
   "name": "python3"
  },
  "language_info": {
   "codemirror_mode": {
    "name": "ipython",
    "version": 3
   },
   "file_extension": ".py",
   "mimetype": "text/x-python",
   "name": "python",
   "nbconvert_exporter": "python",
   "pygments_lexer": "ipython3",
   "version": "3.12.4"
  }
 },
 "nbformat": 4,
 "nbformat_minor": 5
}
