{
 "cells": [
  {
   "cell_type": "markdown",
   "id": "9c1608c2-6c1d-4aa5-8bd2-b828700831d0",
   "metadata": {},
   "source": [
    "# Amizola, April Anne\n",
    "# PSMDSRC 103 - PSMDSRC001 - Programming"
   ]
  },
  {
   "cell_type": "markdown",
   "id": "60924f05-6707-48c6-a149-f319828b516a",
   "metadata": {},
   "source": [
    "# Assignment 1.1 Practice Set 2, Indexing and Slicing using Python"
   ]
  },
  {
   "cell_type": "markdown",
   "id": "e0877045-fad4-422a-bb60-6a80dcf347fa",
   "metadata": {},
   "source": [
    "## 1. Type the expressions below, and try to explain what's happening in each case."
   ]
  },
  {
   "cell_type": "code",
   "execution_count": 587,
   "id": "73857633-2318-47cc-88ef-f081a9aee4f1",
   "metadata": {},
   "outputs": [
    {
     "data": {
      "text/plain": [
       "65536"
      ]
     },
     "execution_count": 587,
     "metadata": {},
     "output_type": "execute_result"
    }
   ],
   "source": [
    "2 ** 16\n",
    "# exponent operator (**) calculates the number 2 raised to the power of another number 16"
   ]
  },
  {
   "cell_type": "code",
   "execution_count": 589,
   "id": "5b3c1cff-4895-4680-8882-fd47b8137a6d",
   "metadata": {},
   "outputs": [
    {
     "data": {
      "text/plain": [
       "(0.4, 0.4)"
      ]
     },
     "execution_count": 589,
     "metadata": {},
     "output_type": "execute_result"
    }
   ],
   "source": [
    "2 / 5, 2 / 5.0\n",
    "# performs division for each expression separated by a comma"
   ]
  },
  {
   "cell_type": "code",
   "execution_count": 591,
   "id": "92156cb7-1c57-4be8-ad17-d7e86360f70f",
   "metadata": {},
   "outputs": [
    {
     "data": {
      "text/plain": [
       "'spameggs'"
      ]
     },
     "execution_count": 591,
     "metadata": {},
     "output_type": "execute_result"
    }
   ],
   "source": [
    "\"spam\" + \"eggs\"\n",
    "# concatenate strings"
   ]
  },
  {
   "cell_type": "code",
   "execution_count": 593,
   "id": "da5fd70a-85f9-4a31-9cea-84d872ac3239",
   "metadata": {},
   "outputs": [
    {
     "data": {
      "text/plain": [
       "'ham'"
      ]
     },
     "execution_count": 593,
     "metadata": {},
     "output_type": "execute_result"
    }
   ],
   "source": [
    "S = \"ham\"\n",
    "S\n",
    "# assignment - string \"ham\" assigned to variable S"
   ]
  },
  {
   "cell_type": "code",
   "execution_count": 595,
   "id": "ffbfca4b-a2eb-4790-ae07-4dba6d0018c2",
   "metadata": {},
   "outputs": [
    {
     "data": {
      "text/plain": [
       "'eggs ham'"
      ]
     },
     "execution_count": 595,
     "metadata": {},
     "output_type": "execute_result"
    }
   ],
   "source": [
    "\"eggs \" + S\n",
    "# concatenate strings and a variable (whose value is a string)"
   ]
  },
  {
   "cell_type": "code",
   "execution_count": 597,
   "id": "3e56f2e1-8413-4ee4-97d0-080e77237ea9",
   "metadata": {},
   "outputs": [
    {
     "data": {
      "text/plain": [
       "'hamhamhamhamham'"
      ]
     },
     "execution_count": 597,
     "metadata": {},
     "output_type": "execute_result"
    }
   ],
   "source": [
    "S*5\n",
    "# replicates the variable (whose value is a string) 5 times"
   ]
  },
  {
   "cell_type": "code",
   "execution_count": 599,
   "id": "dcbf6223-8b51-4f5e-ba32-6988094eda97",
   "metadata": {},
   "outputs": [
    {
     "data": {
      "text/plain": [
       "''"
      ]
     },
     "execution_count": 599,
     "metadata": {},
     "output_type": "execute_result"
    }
   ],
   "source": [
    "S[:0]\n",
    "# slicing a string"
   ]
  },
  {
   "cell_type": "code",
   "execution_count": 601,
   "id": "289dac74-c17d-4c30-882e-a5d8abe69942",
   "metadata": {},
   "outputs": [
    {
     "data": {
      "text/plain": [
       "'green eggs and ham'"
      ]
     },
     "execution_count": 601,
     "metadata": {},
     "output_type": "execute_result"
    }
   ],
   "source": [
    "\"green %s and %s\" % (\"eggs\", S)\n",
    "# string formatting method; % (string-formatting operator) inserts a string referenced to the value \"eggs and variable S enclosed in ( )"
   ]
  },
  {
   "cell_type": "code",
   "execution_count": 603,
   "id": "cdea68c7-a99a-483e-8646-6e33803f7911",
   "metadata": {},
   "outputs": [
    {
     "data": {
      "text/plain": [
       "'x'"
      ]
     },
     "execution_count": 603,
     "metadata": {},
     "output_type": "execute_result"
    }
   ],
   "source": [
    "('x',) [0]\n",
    "# using a slice operator [ ] to extract the first element of a tuple"
   ]
  },
  {
   "cell_type": "code",
   "execution_count": 605,
   "id": "744ce514-c19d-4d2c-bf04-f14ad8e137d6",
   "metadata": {},
   "outputs": [
    {
     "data": {
      "text/plain": [
       "'y'"
      ]
     },
     "execution_count": 605,
     "metadata": {},
     "output_type": "execute_result"
    }
   ],
   "source": [
    "('x', 'y') [1]\n",
    "# using a slice operator [ ] to extract the second element of a tuple"
   ]
  },
  {
   "cell_type": "code",
   "execution_count": 607,
   "id": "6deed82e-b671-4d9f-943e-16e5bebc182f",
   "metadata": {},
   "outputs": [
    {
     "data": {
      "text/plain": [
       "[1, 2, 3, 4, 5, 6]"
      ]
     },
     "execution_count": 607,
     "metadata": {},
     "output_type": "execute_result"
    }
   ],
   "source": [
    "L = [1,2,3] + [4,5,6] \n",
    "L\n",
    "# appending lists"
   ]
  },
  {
   "cell_type": "code",
   "execution_count": 609,
   "id": "bd48fb22-6ac7-44e5-b05b-d448bba9d609",
   "metadata": {},
   "outputs": [
    {
     "data": {
      "text/plain": [
       "([1, 2, 3, 4, 5, 6], [1, 2, 3, 4, 5, 6], [], 5, [5, 6])"
      ]
     },
     "execution_count": 609,
     "metadata": {},
     "output_type": "execute_result"
    }
   ],
   "source": [
    "L, L[:], L[:0], L[-2], L[-2:] \n",
    "# using a slice operator [ ] to extract the element/s of a list"
   ]
  },
  {
   "cell_type": "code",
   "execution_count": 611,
   "id": "dfbfdfab-1197-448e-919a-40f308efb462",
   "metadata": {},
   "outputs": [
    {
     "data": {
      "text/plain": [
       "[3, 4]"
      ]
     },
     "execution_count": 611,
     "metadata": {},
     "output_type": "execute_result"
    }
   ],
   "source": [
    "([1,2,3] + [4,5,6]) [2:4] \n",
    "# extracting the elements of the combined lists"
   ]
  },
  {
   "cell_type": "code",
   "execution_count": 613,
   "id": "39655779-9c3f-4e1c-aa2d-e337043df39f",
   "metadata": {},
   "outputs": [
    {
     "data": {
      "text/plain": [
       "[3, 4]"
      ]
     },
     "execution_count": 613,
     "metadata": {},
     "output_type": "execute_result"
    }
   ],
   "source": [
    "[L[2], L[3]] \n",
    "# access the elements at index 2 and index 3"
   ]
  },
  {
   "cell_type": "code",
   "execution_count": 615,
   "id": "eaf36bee-1e1b-4c43-8834-a57b70a864e4",
   "metadata": {},
   "outputs": [
    {
     "data": {
      "text/plain": [
       "[6, 5, 4, 3, 2, 1]"
      ]
     },
     "execution_count": 615,
     "metadata": {},
     "output_type": "execute_result"
    }
   ],
   "source": [
    "L.reverse(); L \n",
    "# reverse the order of the elements in the list"
   ]
  },
  {
   "cell_type": "code",
   "execution_count": 617,
   "id": "613bf727-86c6-41e9-915d-7cc206378b11",
   "metadata": {},
   "outputs": [
    {
     "data": {
      "text/plain": [
       "[1, 2, 3, 4, 5, 6]"
      ]
     },
     "execution_count": 617,
     "metadata": {},
     "output_type": "execute_result"
    }
   ],
   "source": [
    "L.sort(); L \n",
    "# sort the elements of a list in ascending order by default"
   ]
  },
  {
   "cell_type": "code",
   "execution_count": 619,
   "id": "6be1e9c0-e531-408e-a62a-c9aff4fea2f2",
   "metadata": {
    "scrolled": true
   },
   "outputs": [
    {
     "ename": "SyntaxError",
     "evalue": "invalid syntax (2169581624.py, line 1)",
     "output_type": "error",
     "traceback": [
      "\u001b[1;36m  Cell \u001b[1;32mIn[619], line 1\u001b[1;36m\u001b[0m\n\u001b[1;33m    L.index(4){'a':1, 'b':2} ['b']\u001b[0m\n\u001b[1;37m              ^\u001b[0m\n\u001b[1;31mSyntaxError\u001b[0m\u001b[1;31m:\u001b[0m invalid syntax\n"
     ]
    }
   ],
   "source": [
    "L.index(4){'a':1, 'b':2} ['b']\n",
    "# L.index(4) - search the element of the list and returns its index\n",
    "# {'a':1, 'b':2} ['b'] - access the values of a dictionary by referring to its key name\n",
    "# These are multliple statements in a single line. There's no semicolon to separate L.index(4) and {'a':1, 'b':2} ['b'] resulting to an invalid syntax"
   ]
  },
  {
   "cell_type": "code",
   "execution_count": 621,
   "id": "11951b49-65f5-4be7-84ab-5177d26e07c5",
   "metadata": {},
   "outputs": [
    {
     "data": {
      "text/plain": [
       "{'x': 1, 'y': 2, 'z': 3}"
      ]
     },
     "execution_count": 621,
     "metadata": {},
     "output_type": "execute_result"
    }
   ],
   "source": [
    "D = {'x':1, 'y':2, 'z':3}\n",
    "D\n",
    "# dictionary (key-value pairs enclosed in a { }) assigned to variable D"
   ]
  },
  {
   "cell_type": "code",
   "execution_count": 623,
   "id": "007f3aea-b7cb-466b-8b31-82610b1446cc",
   "metadata": {},
   "outputs": [
    {
     "data": {
      "text/plain": [
       "{'x': 1, 'y': 2, 'z': 3, 'w': 0}"
      ]
     },
     "execution_count": 623,
     "metadata": {},
     "output_type": "execute_result"
    }
   ],
   "source": [
    "D['w'] = 0\n",
    "D\n",
    "# assigning a non-existent key 'w' to 0, therefore another key will be added to the dictionary along with its value"
   ]
  },
  {
   "cell_type": "code",
   "execution_count": 625,
   "id": "af06aa7d-5ee7-487a-a9fe-ec5cada0cd25",
   "metadata": {},
   "outputs": [
    {
     "data": {
      "text/plain": [
       "1"
      ]
     },
     "execution_count": 625,
     "metadata": {},
     "output_type": "execute_result"
    }
   ],
   "source": [
    "D['x'] + D['w']\n",
    "# access the items of a dictionary by referring to its key name and adding these values"
   ]
  },
  {
   "cell_type": "code",
   "execution_count": 627,
   "id": "4f6c1c26-9dff-4fdc-b702-25116e7293d7",
   "metadata": {},
   "outputs": [
    {
     "data": {
      "text/plain": [
       "{'x': 1, 'y': 2, 'z': 3, 'w': 0, (1, 2, 3): 4}"
      ]
     },
     "execution_count": 627,
     "metadata": {},
     "output_type": "execute_result"
    }
   ],
   "source": [
    "D[(1,2,3)] = 4\n",
    "D\n",
    "# assigning a non-existent key (1, 2, 3) to 4, therefore another key will be added to the dictionary along with its value"
   ]
  },
  {
   "cell_type": "code",
   "execution_count": 629,
   "id": "ec30c3a6-d42d-48c0-8bc1-ffdb89f9b31e",
   "metadata": {},
   "outputs": [
    {
     "ename": "AttributeError",
     "evalue": "'dict' object has no attribute 'has_key'",
     "output_type": "error",
     "traceback": [
      "\u001b[1;31m---------------------------------------------------------------------------\u001b[0m",
      "\u001b[1;31mAttributeError\u001b[0m                            Traceback (most recent call last)",
      "Cell \u001b[1;32mIn[629], line 1\u001b[0m\n\u001b[1;32m----> 1\u001b[0m D\u001b[38;5;241m.\u001b[39mkeys(), D\u001b[38;5;241m.\u001b[39mvalues(), D\u001b[38;5;241m.\u001b[39mhas_key((\u001b[38;5;241m1\u001b[39m,\u001b[38;5;241m2\u001b[39m,\u001b[38;5;241m3\u001b[39m)) [[]], [\u001b[38;5;124m\"\u001b[39m\u001b[38;5;124m\"\u001b[39m, [], {}, \u001b[38;5;28;01mNone\u001b[39;00m]\n",
      "\u001b[1;31mAttributeError\u001b[0m: 'dict' object has no attribute 'has_key'"
     ]
    }
   ],
   "source": [
    "D.keys(), D.values(), D.has_key((1,2,3)) [[]], [\"\", [], {}, None]\n",
    "# D.keys() - displays a list of all the keys in the dictionary\n",
    "# D.values() - displays a list of all the values in the dictionary\n",
    "# D.has_key((1,2,3)) [[]] - returns True if a given key is available in the dictionary, otherwise it returns to False\n",
    "# However, has_key() method was removed in Python 3 and running this expression will result to Attribute Error\n",
    "# [\"\", [], {}, None] - displays a list of elements: empty string, empty list, empty set and a nullvalue"
   ]
  },
  {
   "cell_type": "markdown",
   "id": "641866cd-5411-4ff9-bee5-bc9fda184352",
   "metadata": {},
   "source": [
    "## 2. Define a list named L that contains four strings or numbers. Experiment with the following boundary cases."
   ]
  },
  {
   "cell_type": "code",
   "execution_count": 632,
   "id": "804c267d-1873-44b8-a147-db7453dc6b15",
   "metadata": {},
   "outputs": [],
   "source": [
    "L = [20, 30, 40, 50]"
   ]
  },
  {
   "cell_type": "code",
   "execution_count": 634,
   "id": "078bdd56-f990-488d-bd71-0421b1897626",
   "metadata": {},
   "outputs": [
    {
     "ename": "IndexError",
     "evalue": "list index out of range",
     "output_type": "error",
     "traceback": [
      "\u001b[1;31m---------------------------------------------------------------------------\u001b[0m",
      "\u001b[1;31mIndexError\u001b[0m                                Traceback (most recent call last)",
      "Cell \u001b[1;32mIn[634], line 2\u001b[0m\n\u001b[0;32m      1\u001b[0m \u001b[38;5;66;03m# Attempt to index out of bounds. (Ex. L[66])\u001b[39;00m\n\u001b[1;32m----> 2\u001b[0m L[\u001b[38;5;241m66\u001b[39m]\n",
      "\u001b[1;31mIndexError\u001b[0m: list index out of range"
     ]
    }
   ],
   "source": [
    "# Attempt to index out of bounds. (Ex. L[66])\n",
    "L[66]"
   ]
  },
  {
   "cell_type": "code",
   "execution_count": 636,
   "id": "c0a2d442-aa21-4201-a438-2c829f7a0250",
   "metadata": {},
   "outputs": [
    {
     "data": {
      "text/plain": [
       "[20, 30, 40, 50]"
      ]
     },
     "execution_count": 636,
     "metadata": {},
     "output_type": "execute_result"
    }
   ],
   "source": [
    "# Attempt to slice out of bounds. (Ex. L[-9999:100])\n",
    "L[-9999:100]"
   ]
  },
  {
   "cell_type": "markdown",
   "id": "d7adf24e-ce90-4542-b6c7-f7e17b021e08",
   "metadata": {},
   "source": [
    "### Try extracting a sequence in reverse. Make the lower bound higher than the upper bound (Ex. L[3:1]). Attempt to perform L[3:1] = ['?']. Explain the output."
   ]
  },
  {
   "cell_type": "code",
   "execution_count": 639,
   "id": "df5738d6-aede-4bc3-ba53-d4bec141cf97",
   "metadata": {},
   "outputs": [
    {
     "data": {
      "text/plain": [
       "[20, 30, 40, '?', 50]"
      ]
     },
     "execution_count": 639,
     "metadata": {},
     "output_type": "execute_result"
    }
   ],
   "source": [
    "L[3:1] = ['?']\n",
    "L\n",
    "# The element '?' is inserted to index 3 of the list"
   ]
  },
  {
   "cell_type": "markdown",
   "id": "794a9653-025a-4e93-b882-b70fcb304e41",
   "metadata": {},
   "source": [
    "## 3. Define another list L, perform the following and use comments to explain:"
   ]
  },
  {
   "cell_type": "code",
   "execution_count": 642,
   "id": "56749569-ef30-4403-9644-2e79b20f5a67",
   "metadata": {},
   "outputs": [
    {
     "data": {
      "text/plain": [
       "[1, [5, 6], 3, 4]"
      ]
     },
     "execution_count": 642,
     "metadata": {},
     "output_type": "execute_result"
    }
   ],
   "source": [
    "# Assign a list as one of its elements.\n",
    "L = [1, 2, 3, 4]\n",
    "L[1] = [5, 6]\n",
    "L\n",
    "# Index 1 is 2 and it was replaced with [5, 6]"
   ]
  },
  {
   "cell_type": "code",
   "execution_count": 644,
   "id": "715892c9-429f-42ee-9469-b83f529e1531",
   "metadata": {},
   "outputs": [
    {
     "data": {
      "text/plain": [
       "[1, 2, 4]"
      ]
     },
     "execution_count": 644,
     "metadata": {},
     "output_type": "execute_result"
    }
   ],
   "source": [
    "# Assign an empty list to a range.\n",
    "L = [1, 2, 3, 4]\n",
    "L[2:3] = []\n",
    "L\n",
    "# L[2:3] is element 3 and the slice is replaced with an empty list. This means that element 3 is being removed from the list"
   ]
  },
  {
   "cell_type": "code",
   "execution_count": 646,
   "id": "220ca294-47d6-4846-b93f-d9263cd9246c",
   "metadata": {},
   "outputs": [
    {
     "data": {
      "text/plain": [
       "[2, 3, 4]"
      ]
     },
     "execution_count": 646,
     "metadata": {},
     "output_type": "execute_result"
    }
   ],
   "source": [
    "# Delete an item in your list using the del statement.\n",
    "L = [1, 2, 3, 4]\n",
    "del L[0]\n",
    "L\n",
    "# The element 1 at index 0 is permanently deleted"
   ]
  },
  {
   "cell_type": "code",
   "execution_count": 648,
   "id": "ce0b116a-7a6e-4e79-b764-a0261f96e84b",
   "metadata": {},
   "outputs": [
    {
     "data": {
      "text/plain": [
       "[]"
      ]
     },
     "execution_count": 648,
     "metadata": {},
     "output_type": "execute_result"
    }
   ],
   "source": [
    "# Delete an entire range from your list.\n",
    "L = [1, 2, 3, 4]\n",
    "del L[:]\n",
    "L\n",
    "# This results to an empty list"
   ]
  },
  {
   "cell_type": "code",
   "execution_count": 650,
   "id": "d3acde4c-0065-43ee-90b6-af502e84ec00",
   "metadata": {},
   "outputs": [
    {
     "ename": "TypeError",
     "evalue": "can only assign an iterable",
     "output_type": "error",
     "traceback": [
      "\u001b[1;31m---------------------------------------------------------------------------\u001b[0m",
      "\u001b[1;31mTypeError\u001b[0m                                 Traceback (most recent call last)",
      "Cell \u001b[1;32mIn[650], line 3\u001b[0m\n\u001b[0;32m      1\u001b[0m \u001b[38;5;66;03m# Assign a non-sequence value to a slice.\u001b[39;00m\n\u001b[0;32m      2\u001b[0m L \u001b[38;5;241m=\u001b[39m [\u001b[38;5;241m1\u001b[39m, \u001b[38;5;241m2\u001b[39m, \u001b[38;5;241m3\u001b[39m, \u001b[38;5;241m4\u001b[39m]\n\u001b[1;32m----> 3\u001b[0m L[\u001b[38;5;241m1\u001b[39m:\u001b[38;5;241m2\u001b[39m] \u001b[38;5;241m=\u001b[39m \u001b[38;5;241m1\u001b[39m\n\u001b[0;32m      4\u001b[0m L\n",
      "\u001b[1;31mTypeError\u001b[0m: can only assign an iterable"
     ]
    }
   ],
   "source": [
    "# Assign a non-sequence value to a slice.\n",
    "L = [1, 2, 3, 4]\n",
    "L[1:2] = 1\n",
    "L\n",
    "# This results to a Type Error as the right side of the assignment must be an iterable like a list"
   ]
  },
  {
   "cell_type": "markdown",
   "id": "cc97b675-baa2-4da6-aeed-5aabaa7d7303",
   "metadata": {},
   "source": [
    "## 4. Create a dictionary named D with three entries, for keys a, b, and c."
   ]
  },
  {
   "cell_type": "code",
   "execution_count": 653,
   "id": "10f6a4b4-10e4-4352-80c5-2b9c21cdacc1",
   "metadata": {},
   "outputs": [],
   "source": [
    "D = {'a':1, 'b':2, 'c':3}"
   ]
  },
  {
   "cell_type": "markdown",
   "id": "6271639e-eb8b-4dfb-88ff-8fd5b0d394ae",
   "metadata": {},
   "source": [
    "### What happens if you try to index a nonexistent key d (D[‘d’])?"
   ]
  },
  {
   "cell_type": "code",
   "execution_count": 656,
   "id": "6f2f95c0-e2cb-4575-8abd-78f5659960ba",
   "metadata": {},
   "outputs": [
    {
     "ename": "KeyError",
     "evalue": "'d'",
     "output_type": "error",
     "traceback": [
      "\u001b[1;31m---------------------------------------------------------------------------\u001b[0m",
      "\u001b[1;31mKeyError\u001b[0m                                  Traceback (most recent call last)",
      "Cell \u001b[1;32mIn[656], line 1\u001b[0m\n\u001b[1;32m----> 1\u001b[0m D[\u001b[38;5;124m'\u001b[39m\u001b[38;5;124md\u001b[39m\u001b[38;5;124m'\u001b[39m]\n",
      "\u001b[1;31mKeyError\u001b[0m: 'd'"
     ]
    }
   ],
   "source": [
    "D['d']\n",
    "# There is a Key Error as this key is not found in the dictionary"
   ]
  },
  {
   "cell_type": "markdown",
   "id": "605a5dc4-b7d5-44a9-ada9-a4c398790772",
   "metadata": {},
   "source": [
    "### What does python do if you try to assign to a nonexistent key?"
   ]
  },
  {
   "cell_type": "code",
   "execution_count": 659,
   "id": "c8502f18-0a00-468a-aa09-0fa1b60a2474",
   "metadata": {},
   "outputs": [
    {
     "data": {
      "text/plain": [
       "{'a': 1, 'b': 2, 'c': 3, 'd': 4}"
      ]
     },
     "execution_count": 659,
     "metadata": {},
     "output_type": "execute_result"
    }
   ],
   "source": [
    "D['d'] = 4\n",
    "D\n",
    "# Another key will be added to the dictionary along with its value"
   ]
  },
  {
   "cell_type": "markdown",
   "id": "3e3eed3a-1356-411f-9aee-398f9cfe411b",
   "metadata": {},
   "source": [
    "### Compare this to out of bounds assignments."
   ]
  },
  {
   "cell_type": "code",
   "execution_count": 662,
   "id": "47241421-e8c9-455f-835a-44414321a4c4",
   "metadata": {},
   "outputs": [],
   "source": [
    "# Out of bounds index results to a Key Error because it is not found in the dictionary\n",
    "# Out of bounds assignment results to an additional key-value pair element in a dictionary"
   ]
  },
  {
   "cell_type": "markdown",
   "id": "e5a58fa9-67fa-49f3-b1e3-986774f893f4",
   "metadata": {},
   "source": [
    "## 5. Run tests to answer the following questions:"
   ]
  },
  {
   "cell_type": "markdown",
   "id": "8a165c57-ed62-4422-8938-1148a6acdee3",
   "metadata": {},
   "source": [
    "### What happens when you try to use the + operator on different/mixed types?"
   ]
  },
  {
   "cell_type": "code",
   "execution_count": 666,
   "id": "9b52dff2-748e-456a-983a-6bdfe8199d12",
   "metadata": {},
   "outputs": [
    {
     "ename": "TypeError",
     "evalue": "unsupported operand type(s) for +: 'int' and 'str'",
     "output_type": "error",
     "traceback": [
      "\u001b[1;31m---------------------------------------------------------------------------\u001b[0m",
      "\u001b[1;31mTypeError\u001b[0m                                 Traceback (most recent call last)",
      "Cell \u001b[1;32mIn[666], line 1\u001b[0m\n\u001b[1;32m----> 1\u001b[0m \u001b[38;5;241m1\u001b[39m \u001b[38;5;241m+\u001b[39m \u001b[38;5;124m'\u001b[39m\u001b[38;5;124mapril\u001b[39m\u001b[38;5;124m'\u001b[39m\n",
      "\u001b[1;31mTypeError\u001b[0m: unsupported operand type(s) for +: 'int' and 'str'"
     ]
    }
   ],
   "source": [
    "1 + 'april'\n",
    "# It results to Type Error as the operands are two different data types (integer and string)"
   ]
  },
  {
   "cell_type": "markdown",
   "id": "77d0c10b-4939-4f45-994d-1e3a04ee979d",
   "metadata": {},
   "source": [
    "### Does + work if one of the operands is a dictionary?"
   ]
  },
  {
   "cell_type": "code",
   "execution_count": 669,
   "id": "7914e02e-26e4-4216-ba74-71f879fc9cdf",
   "metadata": {},
   "outputs": [
    {
     "ename": "TypeError",
     "evalue": "unsupported operand type(s) for +: 'dict' and 'dict'",
     "output_type": "error",
     "traceback": [
      "\u001b[1;31m---------------------------------------------------------------------------\u001b[0m",
      "\u001b[1;31mTypeError\u001b[0m                                 Traceback (most recent call last)",
      "Cell \u001b[1;32mIn[669], line 3\u001b[0m\n\u001b[0;32m      1\u001b[0m number1 \u001b[38;5;241m=\u001b[39m {\u001b[38;5;124m'\u001b[39m\u001b[38;5;124mone\u001b[39m\u001b[38;5;124m'\u001b[39m:\u001b[38;5;241m1\u001b[39m, \u001b[38;5;124m'\u001b[39m\u001b[38;5;124mtwo\u001b[39m\u001b[38;5;124m'\u001b[39m:\u001b[38;5;241m2\u001b[39m, \u001b[38;5;124m'\u001b[39m\u001b[38;5;124mthree\u001b[39m\u001b[38;5;124m'\u001b[39m:\u001b[38;5;241m3\u001b[39m}\n\u001b[0;32m      2\u001b[0m number2 \u001b[38;5;241m=\u001b[39m {\u001b[38;5;124m'\u001b[39m\u001b[38;5;124mfour\u001b[39m\u001b[38;5;124m'\u001b[39m:\u001b[38;5;241m4\u001b[39m, \u001b[38;5;124m'\u001b[39m\u001b[38;5;124mfive\u001b[39m\u001b[38;5;124m'\u001b[39m:\u001b[38;5;241m5\u001b[39m, \u001b[38;5;124m'\u001b[39m\u001b[38;5;124msix\u001b[39m\u001b[38;5;124m'\u001b[39m:\u001b[38;5;241m6\u001b[39m}\n\u001b[1;32m----> 3\u001b[0m number1 \u001b[38;5;241m+\u001b[39m number2\n",
      "\u001b[1;31mTypeError\u001b[0m: unsupported operand type(s) for +: 'dict' and 'dict'"
     ]
    }
   ],
   "source": [
    "number1 = {'one':1, 'two':2, 'three':3}\n",
    "number2 = {'four':4, 'five':5, 'six':6}\n",
    "number1 + number2\n",
    "# It doesn't work. It results to a Type Error"
   ]
  },
  {
   "cell_type": "markdown",
   "id": "06e7888b-6d42-43dc-b3e9-359e73d9e09a",
   "metadata": {},
   "source": [
    "### Try list.append() (use an actual list you created). Does the append() method work for both lists and strings?"
   ]
  },
  {
   "cell_type": "code",
   "execution_count": 672,
   "id": "7bef0737-8d6b-4338-845f-a9da12d8c01e",
   "metadata": {},
   "outputs": [
    {
     "data": {
      "text/plain": [
       "[1, 2, 3, 4]"
      ]
     },
     "execution_count": 672,
     "metadata": {},
     "output_type": "execute_result"
    }
   ],
   "source": [
    "# It works with lists\n",
    "list = [1, 2, 3]\n",
    "list.append(4)\n",
    "list"
   ]
  },
  {
   "cell_type": "code",
   "execution_count": 674,
   "id": "ca409fa6-c9fb-4d92-91d1-23da80bb3094",
   "metadata": {},
   "outputs": [
    {
     "ename": "AttributeError",
     "evalue": "'str' object has no attribute 'append'",
     "output_type": "error",
     "traceback": [
      "\u001b[1;31m---------------------------------------------------------------------------\u001b[0m",
      "\u001b[1;31mAttributeError\u001b[0m                            Traceback (most recent call last)",
      "Cell \u001b[1;32mIn[674], line 3\u001b[0m\n\u001b[0;32m      1\u001b[0m \u001b[38;5;66;03m# It doesn't work with strings\u001b[39;00m\n\u001b[0;32m      2\u001b[0m string \u001b[38;5;241m=\u001b[39m \u001b[38;5;124m'\u001b[39m\u001b[38;5;124mpython\u001b[39m\u001b[38;5;124m'\u001b[39m\n\u001b[1;32m----> 3\u001b[0m string\u001b[38;5;241m.\u001b[39mappend(\u001b[38;5;124m'\u001b[39m\u001b[38;5;124m3\u001b[39m\u001b[38;5;124m'\u001b[39m)\n",
      "\u001b[1;31mAttributeError\u001b[0m: 'str' object has no attribute 'append'"
     ]
    }
   ],
   "source": [
    "# It doesn't work with strings\n",
    "string = 'python'\n",
    "string.append('3')"
   ]
  },
  {
   "cell_type": "markdown",
   "id": "0d555632-876d-4ee7-b36d-a139aaefa6e6",
   "metadata": {},
   "source": [
    "### Try concatenating (+) two lists or strings, what happens?"
   ]
  },
  {
   "cell_type": "code",
   "execution_count": 677,
   "id": "2b02b646-d0a3-439e-bd6a-e20dfe71edf2",
   "metadata": {},
   "outputs": [
    {
     "data": {
      "text/plain": [
       "'aprilanne'"
      ]
     },
     "execution_count": 677,
     "metadata": {},
     "output_type": "execute_result"
    }
   ],
   "source": [
    "# string + string\n",
    "'april' + 'anne'\n",
    "# It combines the two strings"
   ]
  },
  {
   "cell_type": "code",
   "execution_count": 679,
   "id": "32dca27c-2a3c-4d9c-8809-239eac3f4b8e",
   "metadata": {},
   "outputs": [
    {
     "data": {
      "text/plain": [
       "[1, 2, 3, 4, 5, 6]"
      ]
     },
     "execution_count": 679,
     "metadata": {},
     "output_type": "execute_result"
    }
   ],
   "source": [
    "# list + list\n",
    "a = [1, 2, 3]\n",
    "b = [4, 5, 6]\n",
    "c = a + b\n",
    "c\n",
    "# It combines the two lists"
   ]
  },
  {
   "cell_type": "markdown",
   "id": "8aa97247-a1a3-4da7-9dcb-80b9d4679577",
   "metadata": {},
   "source": [
    "## 6. Define a string S of four characters. Then type the following expression: S[0] [0] [0] [0]. Explain what is happening."
   ]
  },
  {
   "cell_type": "code",
   "execution_count": 682,
   "id": "580ce6d9-4095-464f-83cb-8551c254281e",
   "metadata": {},
   "outputs": [
    {
     "data": {
      "text/plain": [
       "'c'"
      ]
     },
     "execution_count": 682,
     "metadata": {},
     "output_type": "execute_result"
    }
   ],
   "source": [
    "S = 'code'\n",
    "S[0] [0] [0] [0]\n",
    "# It access the first character of the string"
   ]
  },
  {
   "cell_type": "markdown",
   "id": "abd48433-c633-4d27-a2a4-75500ef7c9d1",
   "metadata": {},
   "source": [
    "## 7. Define a string S of 4 characters again: S = “spam”. Write an assignment that changes the string to “slam”, using only slicing and concatenation. Does it work? Try index assignment."
   ]
  },
  {
   "cell_type": "code",
   "execution_count": 685,
   "id": "e3638288-4c0d-4703-afa9-c04de6d147f1",
   "metadata": {},
   "outputs": [
    {
     "data": {
      "text/plain": [
       "'slam'"
      ]
     },
     "execution_count": 685,
     "metadata": {},
     "output_type": "execute_result"
    }
   ],
   "source": [
    "S = \"spam\"\n",
    "S = S[0] + 'l' + S[2:]\n",
    "S\n",
    "# Slicing and concatenation works in changing the string from \"spam\" to \"slam\""
   ]
  }
 ],
 "metadata": {
  "kernelspec": {
   "display_name": "Python 3 (ipykernel)",
   "language": "python",
   "name": "python3"
  },
  "language_info": {
   "codemirror_mode": {
    "name": "ipython",
    "version": 3
   },
   "file_extension": ".py",
   "mimetype": "text/x-python",
   "name": "python",
   "nbconvert_exporter": "python",
   "pygments_lexer": "ipython3",
   "version": "3.12.4"
  }
 },
 "nbformat": 4,
 "nbformat_minor": 5
}
